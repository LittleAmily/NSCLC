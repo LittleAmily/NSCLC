{
 "cells": [
  {
   "cell_type": "code",
   "execution_count": null,
   "metadata": {},
   "outputs": [],
   "source": [
    "import scanpy as sc\n",
    "import pandas as pd\n",
    "import numpy as np\n",
    "import matplotlib.pyplot as plt\n",
    "import seaborn as sns\n",
    "import os\n",
    "import anndata as ad\n",
    "import scanpy as sc\n",
    "import seaborn as sns\n",
    "import scanorama\n",
    "adata=sc.read_h5ad(\"/home/data/sdzl14/NSCLC/zong/adata_log.h5ad\")\n",
    "adata = adata.copy()\n",
    "sc.pp.neighbors(adata, use_rep='X_scanvi_fix',method='umap')\n",
    "sc.tl.umap(adata)\n",
    "sc.pl.umap(adata, color=['C_scANVI'], edges=False)\n",
    "sc.pl.umap(adata, color=['Celltype'], edges=False)\n",
    "adata.var['highly_variable'].value_counts()"
   ]
  }
 ],
 "metadata": {
  "kernelspec": {
   "display_name": "myenv",
   "language": "python",
   "name": "python3"
  },
  "language_info": {
   "name": "python",
   "version": "3.8.18"
  }
 },
 "nbformat": 4,
 "nbformat_minor": 2
}
